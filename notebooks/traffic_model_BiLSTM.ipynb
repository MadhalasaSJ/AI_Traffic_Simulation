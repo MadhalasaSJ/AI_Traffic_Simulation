{
  "nbformat": 4,
  "nbformat_minor": 0,
  "metadata": {
    "colab": {
      "provenance": []
    },
    "kernelspec": {
      "name": "python3",
      "display_name": "Python 3"
    },
    "language_info": {
      "name": "python"
    }
  },
  "cells": [
    {
      "cell_type": "code",
      "execution_count": 1,
      "metadata": {
        "id": "5Se1KfdIKTjB"
      },
      "outputs": [],
      "source": [
        "import torch\n",
        "import torch.nn as nn\n",
        "import torch.optim as optim\n",
        "from torch.utils.data import DataLoader, TensorDataset\n",
        "import pandas as pd\n",
        "import numpy as np"
      ]
    },
    {
      "cell_type": "code",
      "source": [
        "data = pd.read_csv('/content/modified_traffic_data.csv')"
      ],
      "metadata": {
        "id": "107LQJieKeBr"
      },
      "execution_count": 2,
      "outputs": []
    },
    {
      "cell_type": "code",
      "source": [
        "features = data[['truck', 'car', 'bus', 'van']].values  # 4 input features\n",
        "labels = data['total'].values  # 1 target label\n",
        "\n",
        "# Convert to PyTorch tensors\n",
        "features_tensor = torch.tensor(features, dtype=torch.float32)\n",
        "labels_tensor = torch.tensor(labels, dtype=torch.float32).unsqueeze(1)"
      ],
      "metadata": {
        "id": "aGH5ODu4KjNT"
      },
      "execution_count": 3,
      "outputs": []
    },
    {
      "cell_type": "code",
      "source": [
        "# Create DataLoader for training\n",
        "dataset = TensorDataset(features_tensor, labels_tensor)\n",
        "train_loader = DataLoader(dataset, batch_size=16, shuffle=True)"
      ],
      "metadata": {
        "id": "2WP_zZqpKouN"
      },
      "execution_count": 4,
      "outputs": []
    },
    {
      "cell_type": "code",
      "source": [
        "# Define the BiLSTM model\n",
        "class BiLSTM_Model(nn.Module):\n",
        "    def __init__(self, input_size, hidden_size, num_layers):\n",
        "        super(BiLSTM_Model, self).__init__()\n",
        "        self.lstm = nn.LSTM(input_size=input_size, hidden_size=hidden_size,\n",
        "                            num_layers=num_layers, bidirectional=True, batch_first=True)\n",
        "        self.fc = nn.Linear(hidden_size * 2, 1)  # *2 for bidirectional\n",
        "\n",
        "    def forward(self, x):\n",
        "        x, _ = self.lstm(x)\n",
        "        x = self.fc(x[:, -1, :])\n",
        "        return x"
      ],
      "metadata": {
        "id": "UeEBrEtpKsk5"
      },
      "execution_count": 5,
      "outputs": []
    },
    {
      "cell_type": "code",
      "source": [
        "# Model configuration\n",
        "input_size = 4  # Four input features: truck, car, bus, van\n",
        "hidden_size = 64\n",
        "num_layers = 2\n",
        "model = BiLSTM_Model(input_size, hidden_size, num_layers)\n",
        "\n",
        "# Loss and optimizer\n",
        "criterion = nn.MSELoss()\n",
        "optimizer = optim.Adam(model.parameters(), lr=0.001)"
      ],
      "metadata": {
        "id": "SAiwtm1lKz35"
      },
      "execution_count": 6,
      "outputs": []
    },
    {
      "cell_type": "code",
      "source": [
        "# Training loop\n",
        "num_epochs = 50\n",
        "for epoch in range(num_epochs):\n",
        "    model.train()\n",
        "    epoch_loss = 0\n",
        "    for batch_features, batch_labels in train_loader:\n",
        "\n",
        "        batch_features = batch_features.unsqueeze(1)\n",
        "\n",
        "        # Forward pass\n",
        "        outputs = model(batch_features)\n",
        "        loss = criterion(outputs, batch_labels)\n",
        "\n",
        "        # Backward and optimize\n",
        "        optimizer.zero_grad()\n",
        "        loss.backward()\n",
        "        optimizer.step()\n",
        "\n",
        "        epoch_loss += loss.item()\n",
        "\n",
        "    print(f'Epoch [{epoch+1}/{num_epochs}], Loss: {epoch_loss:.4f}')"
      ],
      "metadata": {
        "colab": {
          "base_uri": "https://localhost:8080/"
        },
        "id": "LvxNn9SjLAIV",
        "outputId": "eee22a99-ea6b-496b-9011-44fbe2a22236"
      },
      "execution_count": 7,
      "outputs": [
        {
          "output_type": "stream",
          "name": "stdout",
          "text": [
            "Epoch [1/50], Loss: 10927.3165\n",
            "Epoch [2/50], Loss: 25.2945\n",
            "Epoch [3/50], Loss: 4.9691\n",
            "Epoch [4/50], Loss: 2.4438\n",
            "Epoch [5/50], Loss: 2.3892\n",
            "Epoch [6/50], Loss: 1.6823\n",
            "Epoch [7/50], Loss: 2.7495\n",
            "Epoch [8/50], Loss: 1.0393\n",
            "Epoch [9/50], Loss: 1.8780\n",
            "Epoch [10/50], Loss: 2.2064\n",
            "Epoch [11/50], Loss: 1.1950\n",
            "Epoch [12/50], Loss: 1.5144\n",
            "Epoch [13/50], Loss: 2.8715\n",
            "Epoch [14/50], Loss: 1.1611\n",
            "Epoch [15/50], Loss: 1.1147\n",
            "Epoch [16/50], Loss: 1.4860\n",
            "Epoch [17/50], Loss: 1.6162\n",
            "Epoch [18/50], Loss: 1.8540\n",
            "Epoch [19/50], Loss: 0.9964\n",
            "Epoch [20/50], Loss: 1.9194\n",
            "Epoch [21/50], Loss: 1.8647\n",
            "Epoch [22/50], Loss: 1.8124\n",
            "Epoch [23/50], Loss: 1.6010\n",
            "Epoch [24/50], Loss: 0.7947\n",
            "Epoch [25/50], Loss: 1.3802\n",
            "Epoch [26/50], Loss: 1.0532\n",
            "Epoch [27/50], Loss: 1.4285\n",
            "Epoch [28/50], Loss: 1.4708\n",
            "Epoch [29/50], Loss: 1.1388\n",
            "Epoch [30/50], Loss: 1.1477\n",
            "Epoch [31/50], Loss: 1.5829\n",
            "Epoch [32/50], Loss: 0.9574\n",
            "Epoch [33/50], Loss: 0.9510\n",
            "Epoch [34/50], Loss: 1.0472\n",
            "Epoch [35/50], Loss: 1.0734\n",
            "Epoch [36/50], Loss: 1.0071\n",
            "Epoch [37/50], Loss: 1.6003\n",
            "Epoch [38/50], Loss: 1.1045\n",
            "Epoch [39/50], Loss: 0.6543\n",
            "Epoch [40/50], Loss: 1.3510\n",
            "Epoch [41/50], Loss: 1.1621\n",
            "Epoch [42/50], Loss: 1.3516\n",
            "Epoch [43/50], Loss: 0.6238\n",
            "Epoch [44/50], Loss: 0.7406\n",
            "Epoch [45/50], Loss: 1.4577\n",
            "Epoch [46/50], Loss: 0.6561\n",
            "Epoch [47/50], Loss: 0.9830\n",
            "Epoch [48/50], Loss: 0.7574\n",
            "Epoch [49/50], Loss: 0.9599\n",
            "Epoch [50/50], Loss: 0.7324\n"
          ]
        }
      ]
    },
    {
      "cell_type": "code",
      "source": [
        "# Save the retrained model to a .pth file\n",
        "model_path = 'traffic_model_features.pth'\n",
        "torch.save(model.state_dict(), model_path)\n",
        "print(f\"Model saved as '{model_path}'\")"
      ],
      "metadata": {
        "colab": {
          "base_uri": "https://localhost:8080/"
        },
        "id": "09CdikljMYMK",
        "outputId": "6497f264-969e-45b5-d9a4-741123cf0161"
      },
      "execution_count": 8,
      "outputs": [
        {
          "output_type": "stream",
          "name": "stdout",
          "text": [
            "Model saved as 'traffic_model_features.pth'\n"
          ]
        }
      ]
    },
    {
      "cell_type": "code",
      "source": [
        "# Load the saved model\n",
        "model = BiLSTM_Model(input_size, hidden_size, num_layers)\n",
        "model.load_state_dict(torch.load('traffic_model_features.pth'))\n",
        "model.eval()"
      ],
      "metadata": {
        "colab": {
          "base_uri": "https://localhost:8080/"
        },
        "id": "uSBPcHD4Mkls",
        "outputId": "fa9e1609-f502-4e02-ca6d-b8f69a6c5213"
      },
      "execution_count": 9,
      "outputs": [
        {
          "output_type": "stream",
          "name": "stderr",
          "text": [
            "<ipython-input-9-7a55cd453e27>:3: FutureWarning: You are using `torch.load` with `weights_only=False` (the current default value), which uses the default pickle module implicitly. It is possible to construct malicious pickle data which will execute arbitrary code during unpickling (See https://github.com/pytorch/pytorch/blob/main/SECURITY.md#untrusted-models for more details). In a future release, the default value for `weights_only` will be flipped to `True`. This limits the functions that could be executed during unpickling. Arbitrary objects will no longer be allowed to be loaded via this mode unless they are explicitly allowlisted by the user via `torch.serialization.add_safe_globals`. We recommend you start setting `weights_only=True` for any use case where you don't have full control of the loaded file. Please open an issue on GitHub for any issues related to this experimental feature.\n",
            "  model.load_state_dict(torch.load('traffic_model_features.pth'))\n"
          ]
        },
        {
          "output_type": "execute_result",
          "data": {
            "text/plain": [
              "BiLSTM_Model(\n",
              "  (lstm): LSTM(4, 64, num_layers=2, batch_first=True, bidirectional=True)\n",
              "  (fc): Linear(in_features=128, out_features=1, bias=True)\n",
              ")"
            ]
          },
          "metadata": {},
          "execution_count": 9
        }
      ]
    },
    {
      "cell_type": "code",
      "source": [
        "import torch\n",
        "import pandas as pd\n",
        "\n",
        "# Example: Predicting traffic volumes on new data\n",
        "new_data = pd.DataFrame({\n",
        "    'truck': [9, 2],  # New truck count\n",
        "    'car': [20, 5],   # New car count\n",
        "    'bus': [3, 1],    # New bus count\n",
        "    'van': [5, 1]     # New van count\n",
        "})\n",
        "\n",
        "# Convert the new data to tensor\n",
        "new_features = new_data.values\n",
        "new_features_tensor = torch.tensor(new_features, dtype=torch.float32)\n",
        "\n",
        "# Make sure the model is in evaluation mode\n",
        "model.eval()\n",
        "\n",
        "# Perform inference (prediction) on the new data\n",
        "with torch.no_grad():\n",
        "\n",
        "    predictions = model(new_features_tensor.unsqueeze(1))\n",
        "    print(f'Predictions: {predictions.squeeze().numpy()}')\n"
      ],
      "metadata": {
        "colab": {
          "base_uri": "https://localhost:8080/"
        },
        "id": "B0QdYaRKOWt5",
        "outputId": "ec5fbaf8-3f1d-4d9e-d3d4-dda457ff5e4b"
      },
      "execution_count": 10,
      "outputs": [
        {
          "output_type": "stream",
          "name": "stdout",
          "text": [
            "Predictions: [27.537489  9.007353]\n"
          ]
        }
      ]
    },
    {
      "cell_type": "code",
      "source": [
        "actual_values = [30, 25]\n",
        "predictions = predictions.squeeze()\n",
        "\n",
        "\n",
        "from sklearn.metrics import mean_squared_error, r2_score\n",
        "\n",
        "mse = mean_squared_error(actual_values, predictions)\n",
        "r2 = r2_score(actual_values, predictions)\n",
        "\n",
        "print(f'Mean Squared Error (MSE): {mse:.4f}')\n",
        "print(f'R-squared: {r2:.4f}')"
      ],
      "metadata": {
        "colab": {
          "base_uri": "https://localhost:8080/"
        },
        "id": "-FLVNXIjOrla",
        "outputId": "18a1415d-15bc-433a-c172-b429d15e763b"
      },
      "execution_count": 11,
      "outputs": [
        {
          "output_type": "stream",
          "name": "stdout",
          "text": [
            "Mean Squared Error (MSE): 130.9144\n",
            "R-squared: -19.9463\n"
          ]
        }
      ]
    }
  ]
}